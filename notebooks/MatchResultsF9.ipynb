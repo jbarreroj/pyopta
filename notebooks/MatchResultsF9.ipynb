{
  "nbformat": 4,
  "nbformat_minor": 0,
  "metadata": {
    "colab": {
      "provenance": []
    },
    "kernelspec": {
      "name": "python3",
      "display_name": "Python 3"
    },
    "language_info": {
      "name": "python"
    },
    "accelerator": "GPU",
    "gpuClass": "standard"
  },
  "cells": [
    {
      "cell_type": "markdown",
      "source": [
        "**MATCH RESULTS F9**\n",
        "\n",
        "En este cuaderno se van a ejecutar ejemplos de la librería **pyopta** para el parseo del fichero F9 de OPTA que describe las estadísticas de jugadores en un \n",
        "partido.\n"
      ],
      "metadata": {
        "id": "37I-gACsej_G"
      }
    },
    {
      "cell_type": "code",
      "source": [
        "\"\"\"\n",
        "Primeramente se instala la librería pyopta.\n",
        "\n",
        "Se debe haber guardado previamente el archivo .whl en el Drive.\n",
        "\"\"\"\n",
        "\n",
        "# Se monta Google Drive en el colab\n",
        "from google.colab import drive\n",
        "drive.mount('/content/drive')\n",
        "\n",
        "# Se instala la librería\n",
        "!pip install /content/drive/MyDrive/library/pyopta-1.0.0-py3-none-any.whl"
      ],
      "metadata": {
        "id": "_HynokcyfFKk"
      },
      "execution_count": null,
      "outputs": []
    },
    {
      "cell_type": "code",
      "source": [
        "# Se comprueba que se ha instalado correctamente pyopta\n",
        "!pip show pyopta"
      ],
      "metadata": {
        "id": "l7rHBnvxinSY"
      },
      "execution_count": null,
      "outputs": []
    },
    {
      "cell_type": "code",
      "source": [
        "# Se importa la clase MatchResults para el parseo del fichero F9 de Opta\n",
        "from pyopta.match_results import MatchResults\n",
        "\n",
        "# Ruta del fichero de prueba\n",
        "OPTA_F9FILE = '/content/drive/MyDrive/library/f9-23-2021-2219381-matchresults.xml'"
      ],
      "metadata": {
        "id": "tUJnfLV-jW4q"
      },
      "execution_count": null,
      "outputs": []
    },
    {
      "cell_type": "code",
      "source": [
        "# Parseo del fichero de opta F9\n",
        "opta_f9 = MatchResults(OPTA_F9FILE)"
      ],
      "metadata": {
        "id": "Phe7VHOTkFFq"
      },
      "execution_count": null,
      "outputs": []
    },
    {
      "cell_type": "markdown",
      "source": [
        "# **FUNCIONES GENERALES**\n",
        "\n",
        "* get_df_teams()\n",
        "* get_df_players()\n",
        "* get_df_all_stats()\n",
        "* get_df_players_stats()\n",
        "* get_df_specific_stat(stat, player_id = UNDEFINED_INT, team_id = UNDEFINED_INT)"
      ],
      "metadata": {
        "id": "fXF3JZXPr5zA"
      }
    },
    {
      "cell_type": "code",
      "source": [
        "\"\"\"\n",
        "--> get_df_teams()\n",
        "\n",
        "Obtiene un dataframe con información de los equipos del partido.\n",
        "\"\"\"\n",
        "\n",
        "df_teams = opta_f9.get_df_teams()\n",
        "display(df_teams)"
      ],
      "metadata": {
        "id": "Cy3ErKHzC4Sg"
      },
      "execution_count": null,
      "outputs": []
    },
    {
      "cell_type": "code",
      "source": [
        "\"\"\"\n",
        "--> get_df_players()\n",
        "\n",
        "Obtiene un dataframe con información de los jugadores involucrados en el partido.\n",
        "\"\"\"\n",
        "\n",
        "df_players = opta_f9.get_df_players()\n",
        "display(df_players)"
      ],
      "metadata": {
        "id": "NX6FMfT-Cj5f"
      },
      "execution_count": null,
      "outputs": []
    },
    {
      "cell_type": "code",
      "source": [
        "\"\"\"\n",
        "--> get_df_all_stats()\n",
        "\n",
        "Obtiene un dataframe con los nombres de todas las estadísticas recogidas\n",
        "en el partido.\n",
        "\"\"\"\n",
        "\n",
        "df_all_stats = opta_f9.get_df_all_stats()\n",
        "display(df_all_stats)"
      ],
      "metadata": {
        "id": "09qy2S8fCYrB"
      },
      "execution_count": null,
      "outputs": []
    },
    {
      "cell_type": "code",
      "source": [
        "\"\"\"\n",
        "--> get_df_players_stats()\n",
        "\n",
        "Obtiene un dataframe con cada una de las estadísticas por jugador.\n",
        "\"\"\"\n",
        "\n",
        "df_player_stats = opta_f9.get_df_players_stats()\n",
        "display(df_player_stats)"
      ],
      "metadata": {
        "id": "cSiafGoJB_vx"
      },
      "execution_count": null,
      "outputs": []
    },
    {
      "cell_type": "code",
      "source": [
        "\"\"\"\n",
        "--> get_df_specific_stat(stat, player_id = UNDEFINED_INT, team_id = UNDEFINED_INT)\n",
        "\n",
        "Obtiene un dataframe con los valores de una estadística concreta.\n",
        "Permite filtrar por jugador y por equipo.\n",
        "\"\"\"\n",
        "\n",
        "df_stat = opta_f9.get_df_specific_stat(stat = 'successful_final_third_passes', team_id = 954)\n",
        "display(df_stat)"
      ],
      "metadata": {
        "id": "y-yv1eHCDMSe"
      },
      "execution_count": null,
      "outputs": []
    },
    {
      "cell_type": "markdown",
      "source": [
        "# **FUNCIONES DE RADAR**\n",
        "\n",
        "* create_player_radar(player_id, list_params, min_minutes = 1, normalized_to_90 = False)\n",
        "* create_comparison_radar(player1_id, player2_id, list_params, min_minutes = 1, normalized_to_90 = False)"
      ],
      "metadata": {
        "id": "lcSl_0oR76VR"
      }
    },
    {
      "cell_type": "code",
      "source": [
        "'''\n",
        "Montamos dos listas, una con 6 estadísticas al azar y otra con 3 jugadores al azar\n",
        "(de la que se seleccionarán posteriormente uno y dos para el radar de comparación)\n",
        "'''\n",
        "\n",
        "stats_for_radar = []\n",
        "list_players_for_radar = []\n",
        "for i in range(6):\n",
        "    stats_for_radar.append({df_all_stats.sample().iloc[0]['stat']: 1})\n",
        "for i in range(3):\n",
        "    list_players_for_radar.append(df_stat.query('mins_played > 0').sample().iloc[0]['player_id'])\n",
        "\n",
        "print(stats_for_radar)\n",
        "print(list_players_for_radar)"
      ],
      "metadata": {
        "id": "qfZ_xqfzEYJl"
      },
      "execution_count": null,
      "outputs": []
    },
    {
      "cell_type": "code",
      "source": [
        "\"\"\"\n",
        "--> create_player_radar(player_id, list_params, min_minutes = 1, normalized_to_90 = False)\n",
        "\n",
        "Obtiene el radar de un jugador con las estadísticas pasadas como parámetros. \n",
        "- La lista de parámetros será una lista de elementos en la que cada elemento tendrá\n",
        "el siguiente formato:\n",
        "{[estadística]: [0-1]} -> 0 indica que un valor menor es mejor (por ejemplo, pérdidas \n",
        "de balón), mientras que 1 indica que un valor mayor es mejor (por ejemplo, asistencias).\n",
        "p.ej: \n",
        "[{'blocked_pass': 1}, {'accurate_keeper_throws': 1}, {'won_corners': 1}, {'att_miss_high_left': 0}, {'touches': 1}]\n",
        "- Min_minutes indica el valor mínimo de minutos jugados a partir de los cuales los jugadores\n",
        "entrarán en el cálculo de valores. P.ej, un valor de 10 expresa que únicamente los jugadores\n",
        "que hayan disputado más de 10 minutos entrarán en el cálculo de los valores del radar.\n",
        "- normalized_to_90; Si true, los valores se normalizarán a 90 minutos. Por defecto false.\n",
        "\"\"\"\n",
        "\n",
        "opta_f9.create_player_radar(list_players_for_radar[0], stats_for_radar)"
      ],
      "metadata": {
        "id": "4Edn66_qEtUz"
      },
      "execution_count": null,
      "outputs": []
    },
    {
      "cell_type": "code",
      "source": [
        "opta_f9.create_player_radar(list_players_for_radar[0], stats_for_radar, normalized_to_90 = True)"
      ],
      "metadata": {
        "id": "J49U1hEchIwL"
      },
      "execution_count": null,
      "outputs": []
    },
    {
      "cell_type": "code",
      "source": [
        "\"\"\"\n",
        "--> create_comparison_radar(player1_id, player2_id, list_params, min_minutes = 1, normalized_to_90 = False)\n",
        "\n",
        "Obtiene un radar de comparación entre dos jugadores con las estadísticas pasadas como parámetros. \n",
        "- La lista de parámetros será una lista de elementos en la que cada elemento tendrá\n",
        "el siguiente formato:\n",
        "{[estadística]: [0-1]} -> 0 indica que un valor menor es mejor (por ejemplo, pérdidas \n",
        "de balón), mientras que 1 indica que un valor mayor es mejor (por ejemplo, asistencias).\n",
        "p.ej: \n",
        "[{'blocked_pass': 1}, {'accurate_keeper_throws': 1}, {'won_corners': 1}, {'att_miss_high_left': 0}, {'touches': 1}]\n",
        "- Min_minutes indica el valor mínimo de minutos jugados a partir de los cuales los jugadores\n",
        "entrarán en el cálculo de valores. P.ej, un valor de 10 expresa que únicamente los jugadores\n",
        "que hayan disputado más de 10 minutos entrarán en el cálculo de los valores del radar.\n",
        "- normalized_to_90; Si true, los valores se normalizarán a 90 minutos. Por defecto false.\n",
        "\"\"\"\n",
        "# https://stackoverflow.com/questions/71738218/module-pil-has-not-attribute-resampling\n",
        "# https://stackoverflow.com/questions/71738218/module-pil-has-not-attribute-resampling\n",
        "\n",
        "opta_f9.create_comparison_radar(list_players_for_radar[0], list_players_for_radar[1], stats_for_radar)\n",
        "\n"
      ],
      "metadata": {
        "id": "Icwg7HKoE5nD"
      },
      "execution_count": null,
      "outputs": []
    },
    {
      "cell_type": "code",
      "source": [
        "opta_f9.create_comparison_radar(list_players_for_radar[0], list_players_for_radar[1], stats_for_radar, normalized_to_90 = True)"
      ],
      "metadata": {
        "id": "hFE0cKrqhRU7"
      },
      "execution_count": null,
      "outputs": []
    }
  ]
}