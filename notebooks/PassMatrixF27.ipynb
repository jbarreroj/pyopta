{
  "nbformat": 4,
  "nbformat_minor": 0,
  "metadata": {
    "colab": {
      "provenance": []
    },
    "kernelspec": {
      "name": "python3",
      "display_name": "Python 3"
    },
    "language_info": {
      "name": "python"
    }
  },
  "cells": [
    {
      "cell_type": "markdown",
      "source": [
        "**PASS MATRIX F27**\n",
        "\n",
        "En este cuaderno se van a ejecutar ejemplos de la librería **pyopta** para el parseo del fichero F27 de OPTA que describe la matriz de pases de un partido.\n",
        "\n"
      ],
      "metadata": {
        "id": "37I-gACsej_G"
      }
    },
    {
      "cell_type": "code",
      "source": [
        "\"\"\"\n",
        "Primeramente se instala la librería pyopta.\n",
        "\n",
        "Se debe haber guardado previamente el archivo .whl en el Drive.\n",
        "\"\"\"\n",
        "\n",
        "# Se monta Google Drive en el colab\n",
        "from google.colab import drive\n",
        "drive.mount('/content/drive')\n",
        "\n",
        "# Se instala la librería\n",
        "!pip install /content/drive/MyDrive/library/pyopta-1.0.0-py3-none-any.whl"
      ],
      "metadata": {
        "id": "_HynokcyfFKk"
      },
      "execution_count": null,
      "outputs": []
    },
    {
      "cell_type": "code",
      "source": [
        "# Se comprueba que se ha instalado correctamente pyopta\n",
        "!pip show pyopta"
      ],
      "metadata": {
        "id": "l7rHBnvxinSY"
      },
      "execution_count": null,
      "outputs": []
    },
    {
      "cell_type": "code",
      "source": [
        "# Paso previo - Deshabilitamos los mensajes de pandas\n",
        "import pandas\n",
        "pandas.options.mode.chained_assignment = None"
      ],
      "metadata": {
        "id": "6CLYkDhU-aVj"
      },
      "execution_count": null,
      "outputs": []
    },
    {
      "cell_type": "code",
      "source": [
        "# Se importa la clase PassMatrix para el parseo del fichero F27 de Opta\n",
        "from pyopta.pass_matrix import PassMatrix\n",
        "\n",
        "# Ruta del fichero de prueba\n",
        "OPTA_F27FILE = '/content/drive/MyDrive/library/pass_matrix_23_2021_g2219460_t173.xml'"
      ],
      "metadata": {
        "id": "tUJnfLV-jW4q"
      },
      "execution_count": null,
      "outputs": []
    },
    {
      "cell_type": "code",
      "source": [
        "# Parseo del fichero de opta F27\n",
        "opta_f27 = PassMatrix(OPTA_F27FILE)"
      ],
      "metadata": {
        "id": "Phe7VHOTkFFq"
      },
      "execution_count": null,
      "outputs": []
    },
    {
      "cell_type": "code",
      "source": [
        "\"\"\"\n",
        "--> get_df_pass_matrix()\n",
        "\n",
        "Obtiene el dataframe total con información de la matriz de pases del equipo\n",
        "\"\"\"\n",
        "\n",
        "df_pass_matrix = opta_f27.get_df_pass_matrix()\n",
        "display(df_pass_matrix)"
      ],
      "metadata": {
        "id": "Zq95Yuj86jpi"
      },
      "execution_count": null,
      "outputs": []
    },
    {
      "cell_type": "code",
      "source": [
        "\"\"\"\n",
        "--> get_pitch_pass_matrix(with_subs = False, team_color='#FF0000', passes_color='#eeeeee', min_passes = 1)\n",
        "\n",
        "Obtiene un terreno de juego con la matriz de pases representado en él. Permite las \n",
        "siguientes opciones:\n",
        "* with_subs = Si True, muestra los suplentes. Por defecto, False.\n",
        "* team_color = Color de los círculos de los jugadores. Por defecto, #FF0000 (rojo).\n",
        "* passes_color = Color de las líneas de pases. Por defecto, #eeeeee\n",
        "* min_passes = Número de pases mínimo. Por ejemplo, si se establece el valor 5,\n",
        "  únicamente se mostrarán las líneas de pases entre jugadores cuyo num_passes >= 5.\n",
        "  Por defecto, 1.\n",
        "\"\"\""
      ],
      "metadata": {
        "id": "qHqYaOsJ7uuJ"
      },
      "execution_count": null,
      "outputs": []
    },
    {
      "cell_type": "code",
      "source": [
        "# Matriz de pases del equipo con el 11 inicial\n",
        "pitch_pass_matrix_01 = opta_f27.get_pitch_pass_matrix(team_color='#0761AF')"
      ],
      "metadata": {
        "id": "3TJoD7iB8U5Q"
      },
      "execution_count": null,
      "outputs": []
    },
    {
      "cell_type": "code",
      "source": [
        "# Matriz de pases del equipo con el 11 inicial + suplentes\n",
        "pitch_pass_matrix_01 = opta_f27.get_pitch_pass_matrix(team_color='#0761AF',with_subs = True)"
      ],
      "metadata": {
        "id": "w6dKeMyk-kmv"
      },
      "execution_count": null,
      "outputs": []
    },
    {
      "cell_type": "code",
      "source": [
        "# Matriz de pases del equipo con el 11 inicial.\n",
        "# Se establece un color para el equipo, un color para las líneas de pases y un valor\n",
        "# para mostrar únicamente aquellas líneas de pases con num_passes >= 4\n",
        "pitch_pass_matrix_01 = opta_f27.get_pitch_pass_matrix(team_color='#0761AF', passes_color='#a35400', min_passes = 4)"
      ],
      "metadata": {
        "id": "56q6olck-yXW"
      },
      "execution_count": null,
      "outputs": []
    }
  ]
}