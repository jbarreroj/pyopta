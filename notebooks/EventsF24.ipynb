{
  "cells": [
    {
      "cell_type": "markdown",
      "metadata": {
        "id": "37I-gACsej_G"
      },
      "source": [
        "**EVENTS F24**\n",
        "\n",
        "En este cuaderno se van a ejecutar ejemplos de la librería **pyopta** para el parseo del fichero F24 de OPTA que describe los eventos de un partido.\n"
      ]
    },
    {
      "cell_type": "code",
      "execution_count": null,
      "metadata": {
        "id": "_HynokcyfFKk"
      },
      "outputs": [],
      "source": [
        "\"\"\"\n",
        "Primeramente se instala la librería pyopta.\n",
        "\n",
        "Se debe haber guardado previamente el archivo .whl en el Drive.\n",
        "\"\"\"\n",
        "\n",
        "# Se monta Google Drive en el colab\n",
        "from google.colab import drive\n",
        "drive.mount('/content/drive')\n",
        "\n",
        "# Se instala la librería\n",
        "!pip install /content/drive/MyDrive/library/pyopta-1.0.0-py3-none-any.whl"
      ]
    },
    {
      "cell_type": "code",
      "execution_count": null,
      "metadata": {
        "id": "l7rHBnvxinSY"
      },
      "outputs": [],
      "source": [
        "# Se comprueba que se ha instalado correctamente pyopta\n",
        "!pip show pyopta"
      ]
    },
    {
      "cell_type": "code",
      "execution_count": null,
      "metadata": {
        "id": "tUJnfLV-jW4q"
      },
      "outputs": [],
      "source": [
        "# Se importa la clase Events para el parseo del fichero F24 de Opta\n",
        "from pyopta.events import Events\n",
        "\n",
        "# Ruta del fichero de prueba\n",
        "OPTA_F24FILE = '/content/drive/MyDrive/library/f24-23-2021-2219526-eventdetails.xml'"
      ]
    },
    {
      "cell_type": "code",
      "execution_count": null,
      "metadata": {
        "id": "Phe7VHOTkFFq"
      },
      "outputs": [],
      "source": [
        "# Parseo del fichero de opta F24\n",
        "opta_f24 = Events(OPTA_F24FILE)"
      ]
    },
    {
      "cell_type": "code",
      "execution_count": null,
      "metadata": {
        "id": "h3zbGpl-5xtO"
      },
      "outputs": [],
      "source": [
        "'''\n",
        "El fichero OPTA F24 no dispone de información de jugadores (nombre, apellidos, equipo,...) así que para\n",
        "obtener esa información y que en los resultados de la ejecución de las funciones aparezca el nombre\n",
        "de los jugadores, se debe parsear el fichero de OPTA de squads.\n",
        "(Esto es opcional, en caso de no leer ese fichero, los resultados estarían identificados únicamente\n",
        "con el identificador del jugador)\n",
        "'''\n",
        "OPTA_SQUADS_FILE = '/content/drive/MyDrive/library/srml-23-2021-squads.xml'\n",
        "opta_f24.set_squads_info(OPTA_SQUADS_FILE)"
      ]
    },
    {
      "cell_type": "markdown",
      "metadata": {
        "id": "-fIV3lSR7CEU"
      },
      "source": [
        "# **FUNCIONES GENERALES**\n",
        "\n",
        "* get_match_info()\n",
        "* get_df_players()\n",
        "* get_df_teams()\n",
        "* get_df_all_events()\n",
        "\n"
      ]
    },
    {
      "cell_type": "code",
      "execution_count": null,
      "metadata": {
        "id": "1SrPQrFLk7vd"
      },
      "outputs": [],
      "source": [
        "\"\"\"\n",
        "--> get_match_info()\n",
        "\n",
        "Obtiene la información del partido\n",
        "\"\"\"\n",
        "\n",
        "match_info = opta_f24.get_match_info()\n",
        "print(match_info)"
      ]
    },
    {
      "cell_type": "code",
      "execution_count": null,
      "metadata": {
        "id": "MX9aqPVxk_eu"
      },
      "outputs": [],
      "source": [
        "\"\"\"\n",
        "--> get_df_players()\n",
        "\n",
        "Obtiene un dataframe con información de los jugadores involucrados en el\n",
        "partido\n",
        "\"\"\"\n",
        "\n",
        "df_players = opta_f24.get_df_players()\n",
        "display(df_players)"
      ]
    },
    {
      "cell_type": "code",
      "execution_count": null,
      "metadata": {
        "id": "sO6FDpfR7anv"
      },
      "outputs": [],
      "source": [
        "\"\"\"\n",
        "--> get_df_teams()\n",
        "\n",
        "Obtiene un dataframe con información de los equipos que disputaron el partido\n",
        "\"\"\"\n",
        "\n",
        "df_teams = opta_f24.get_df_teams()\n",
        "display(df_teams)"
      ]
    },
    {
      "cell_type": "code",
      "execution_count": null,
      "metadata": {
        "id": "BVUZ1ZwIln7J"
      },
      "outputs": [],
      "source": [
        "\"\"\"\n",
        "--> get_df_all_events()\n",
        "\n",
        "Obtiene un dataframe con todos los eventos (en bruto) producidos en el partido\n",
        "\"\"\"\n",
        "\n",
        "df_all_events = opta_f24.get_df_all_events()\n",
        "display(df_all_events)"
      ]
    },
    {
      "cell_type": "code",
      "execution_count": null,
      "metadata": {
        "id": "0c4O1-6L8lQF"
      },
      "outputs": [],
      "source": [
        "# Definimos variables globales con la información obtenida previamente\n",
        "random_player_id = df_players.sample().iloc[0]['player_id']\n",
        "random_team_id = df_teams.sample().iloc[0]['team_id']\n",
        "PLAYER_ID = random_player_id\n",
        "TEAM_ID = random_team_id"
      ]
    },
    {
      "cell_type": "markdown",
      "metadata": {
        "id": "3VUJsSMtnYbY"
      },
      "source": [
        "# **FUNCIONES RELACIONADAS CON EVENTO DE PASES**\n",
        "\n",
        "* get_df_passes(player_id = None, team_id = None, period_id = None)\n",
        "* get_df_passes_successful(player_id = None, team_id = None, period_id = None)\n",
        "* get_df_passes_unsuccessful(player_id = None, team_id = None, period_id = None)\n",
        "* get_pitch_passes(player_id = None, team_id = None, period_id = None)\n",
        "* get_stats_passes(team_id = None)\n",
        "* get_bar_chart_passes(team_id = None)"
      ]
    },
    {
      "cell_type": "code",
      "execution_count": null,
      "metadata": {
        "id": "lr6fwIMGmNSJ"
      },
      "outputs": [],
      "source": [
        "\"\"\"\n",
        "--> get_df_passes(player_id = None, team_id = None, period_id = None)\n",
        "\n",
        "Obtiene un dataframe con información de todos los pases producidos en el partido.\n",
        "Permite filtrar por jugador, equipo y/o periodo.\n",
        "\"\"\"\n",
        "\n",
        "df_passes_all = opta_f24.get_df_passes()\n",
        "df_passes_player = opta_f24.get_df_passes(player_id = PLAYER_ID)\n",
        "df_passes_team = opta_f24.get_df_passes(team_id = TEAM_ID)\n",
        "df_passes_period = opta_f24.get_df_passes(team_id = TEAM_ID, period_id = 1)\n",
        "display(df_passes_team)"
      ]
    },
    {
      "cell_type": "code",
      "execution_count": null,
      "metadata": {
        "id": "lTDsYGwbn1-u"
      },
      "outputs": [],
      "source": [
        "\"\"\"\n",
        "--> get_df_passes_successful(player_id = None, team_id = None, period_id = None)\n",
        "\n",
        "Obtiene un dataframe con información de todos los pases exitosos producidos en \n",
        "el partido.\n",
        "Permite filtrar por jugador, equipo y/o periodo\n",
        "\"\"\"\n",
        "\n",
        "df_successful_passes_team = opta_f24.get_df_passes_successful(team_id = TEAM_ID)\n",
        "display(df_successful_passes_team)"
      ]
    },
    {
      "cell_type": "code",
      "execution_count": null,
      "metadata": {
        "id": "mBqVx_jlo5fN"
      },
      "outputs": [],
      "source": [
        "\"\"\"\n",
        "--> get_df_passes_unsuccessful(player_id = None, team_id = None, period_id = None)\n",
        "\n",
        "Obtiene un dataframe con información de todos los pases no exitosos producidos en \n",
        "el partido.\n",
        "Permite filtrar por jugador, equipo y/o periodo\n",
        "\"\"\"\n",
        "\n",
        "df_unsuccessful_passes_team = opta_f24.get_df_passes_unsuccessful(period_id = 2)\n",
        "display(df_unsuccessful_passes_team)"
      ]
    },
    {
      "cell_type": "code",
      "execution_count": null,
      "metadata": {
        "id": "IVgweM1QpFch"
      },
      "outputs": [],
      "source": [
        "\"\"\"\n",
        "--> get_pitch_passes(player_id = None, team_id = None, period_id = None)\n",
        "\n",
        "Obtiene un terreno de juego con los pases representados en él (tanto exitosos como\n",
        "no exitosos).\n",
        "Permite filtrar por jugador, equipo y/o periodo\n",
        "\"\"\"\n",
        "\n",
        "pitch_passes = opta_f24.get_pitch_passes(team_id = TEAM_ID, period_id = 2)"
      ]
    },
    {
      "cell_type": "code",
      "execution_count": null,
      "metadata": {
        "id": "AcYWhQcxqle0"
      },
      "outputs": [],
      "source": [
        "\"\"\"\n",
        "--> get_stats_passes(team_id = None)\n",
        "\n",
        "Devuelve un dataframe (ordenado por ratio descendentemente) con estadísticas del\n",
        " número de pases exitosos, no exitosos y el ratio.\n",
        "Permite filtrar por equipo.\n",
        "\"\"\"\n",
        "\n",
        "df_stats_passes = opta_f24.get_stats_passes(team_id = TEAM_ID)\n",
        "display(df_stats_passes)"
      ]
    },
    {
      "cell_type": "code",
      "execution_count": null,
      "metadata": {
        "id": "f-jil8yKsBIR"
      },
      "outputs": [],
      "source": [
        "\"\"\"\n",
        "--> get_bar_chart_passes(team_id = None)\n",
        "\n",
        "Muestra un diagrama de barras con los pases exitosos y no exitosos de cada jugador.\n",
        "Permite filtrar por equipo.\n",
        "\"\"\"\n",
        "\n",
        "df_barchart_passes = opta_f24.get_bar_chart_passes()\n",
        "display(df_barchart_passes)"
      ]
    },
    {
      "cell_type": "markdown",
      "metadata": {
        "id": "9PAQaHW2ug5D"
      },
      "source": [
        "# **FUNCIONES RELACIONADAS CON EVENTO DE DUELOS AÉREOS**\n",
        "\n",
        "* get_df_aerial_duels(player_id = None, team_id = None, period_id = None)\n",
        "* get_df_aerial_duels_successful(player_id = None, team_id = None, period_id = None)\n",
        "* get_df_aerial_duels_unsuccessful(player_id = None, team_id = None, period_id = None)\n",
        "* get_pitch_aerial_duels(player_id = None, team_id = None, period_id = None)\n",
        "* get_stats_aerial_duels(team_id = None)\n",
        "* get_bar_chart_aerial_duels(team_id = None)\n"
      ]
    },
    {
      "cell_type": "code",
      "execution_count": null,
      "metadata": {
        "id": "bteMcyNLug5D"
      },
      "outputs": [],
      "source": [
        "\"\"\"\n",
        "--> get_df_aerial_duels(player_id = None, team_id = None, period_id = None)\n",
        "\n",
        "Obtiene un dataframe con información de todos los duelos aéreos producidos en el partido.\n",
        "Permite filtrar por jugador, equipo y/o periodo.\n",
        "\"\"\"\n",
        "\n",
        "df_aerial_duels_all = opta_f24.get_df_aerial_duels()\n",
        "df_aerial_duels_player = opta_f24.get_df_aerial_duels(player_id = PLAYER_ID)\n",
        "df_aerial_duels_team = opta_f24.get_df_aerial_duels(team_id = TEAM_ID)\n",
        "df_aerial_duels_period = opta_f24.get_df_aerial_duels(team_id = TEAM_ID, period_id = 2)\n",
        "display(df_aerial_duels_player)"
      ]
    },
    {
      "cell_type": "code",
      "execution_count": null,
      "metadata": {
        "id": "37zLy1i5ug5E"
      },
      "outputs": [],
      "source": [
        "\"\"\"\n",
        "--> get_df_aerial_duels_successful(player_id = None, team_id = None, period_id = None)\n",
        "\n",
        "Obtiene un dataframe con información de todos los duelos aéreos exitosos producidos en \n",
        "el partido.\n",
        "Permite filtrar por jugador, equipo y/o periodo\n",
        "\"\"\"\n",
        "\n",
        "df_successful_aerial_duels_player = opta_f24.get_df_aerial_duels_successful(player_id = PLAYER_ID)\n",
        "display(df_successful_aerial_duels_player)"
      ]
    },
    {
      "cell_type": "code",
      "execution_count": null,
      "metadata": {
        "id": "HgFvSlUVug5E"
      },
      "outputs": [],
      "source": [
        "\"\"\"\n",
        "--> get_df_aerial_duels_unsuccessful(player_id = None, team_id = None, period_id = None)\n",
        "\n",
        "Obtiene un dataframe con información de todos los duelos aéreos no exitosos producidos en \n",
        "el partido.\n",
        "Permite filtrar por jugador, equipo y/o periodo\n",
        "\"\"\"\n",
        "\n",
        "df_unsuccessful_aerial_duels_player = opta_f24.get_df_aerial_duels_unsuccessful(player_id = PLAYER_ID)\n",
        "display(df_unsuccessful_aerial_duels_player)"
      ]
    },
    {
      "cell_type": "code",
      "execution_count": null,
      "metadata": {
        "id": "4UIyA7AGug5E"
      },
      "outputs": [],
      "source": [
        "\"\"\"\n",
        "--> get_pitch_aerial_duels(player_id = None, team_id = None, period_id = None)\n",
        "\n",
        "Obtiene un terreno de juego con los duelos aéreos representados en él (tanto exitosos como\n",
        "no exitosos).\n",
        "Permite filtrar por jugador, equipo y/o periodo\n",
        "\"\"\"\n",
        "\n",
        "pitch_aerial_duels = opta_f24.get_pitch_aerial_duels(team_id = TEAM_ID)"
      ]
    },
    {
      "cell_type": "code",
      "execution_count": null,
      "metadata": {
        "id": "zmi9f9x2ug5F"
      },
      "outputs": [],
      "source": [
        "\"\"\"\n",
        "--> get_stats_aerial_duels(team_id = None)\n",
        "\n",
        "Devuelve un dataframe (ordenado por ratio descendentemente) con estadísticas del\n",
        " número de duelos aéreos exitosos, no exitosos y el ratio.\n",
        "Permite filtrar por equipo.\n",
        "\"\"\"\n",
        "\n",
        "df_stats_aerial_duels = opta_f24.get_stats_aerial_duels()\n",
        "display(df_stats_aerial_duels)"
      ]
    },
    {
      "cell_type": "code",
      "execution_count": null,
      "metadata": {
        "id": "v3hRi6lLug5F"
      },
      "outputs": [],
      "source": [
        "\"\"\"\n",
        "--> get_bar_chart_aerial_duels(team_id = None)\n",
        "\n",
        "Muestra un diagrama de barras con los duelos aéreos exitosos y no exitosos de \n",
        "cada jugador.\n",
        "Permite filtrar por equipo.\n",
        "\"\"\"\n",
        "\n",
        "df_barchart_aerial_duels = opta_f24.get_bar_chart_aerial_duels(team_id = TEAM_ID)\n",
        "display(df_barchart_aerial_duels)"
      ]
    },
    {
      "cell_type": "markdown",
      "metadata": {
        "id": "sSoVK0r6ACYg"
      },
      "source": [
        "# **FUNCIONES RELACIONADAS CON EVENTO DE FALTAS**\n",
        "\n",
        "* get_df_fouls(player_id = None, team_id = None, period_id = None)\n",
        "* get_df_fouls_won(player_id = None, team_id = None, period_id = None)\n",
        "* get_df_fouls_conceded(player_id = None, team_id = None, period_id = None)\n",
        "* get_pitch_fouls(player_id = None, team_id = None, period_id = None)\n",
        "* get_stats_fouls(team_id = None)\n",
        "* get_bar_chart_fouls(team_id = None)"
      ]
    },
    {
      "cell_type": "code",
      "execution_count": null,
      "metadata": {
        "id": "Kt0ePZ0AAU4f"
      },
      "outputs": [],
      "source": [
        "\"\"\"\n",
        "--> get_df_fouls(player_id = None, team_id = None, period_id = None)\n",
        "\n",
        "Obtiene un dataframe con información de todos las faltas producidas en el partido.\n",
        "Permite filtrar por jugador, equipo y/o periodo.\n",
        "\"\"\"\n",
        "\n",
        "df_fouls_all = opta_f24.get_df_fouls()\n",
        "df_fouls_player = opta_f24.get_df_fouls(player_id = PLAYER_ID)\n",
        "df_fouls_team = opta_f24.get_df_fouls(team_id = TEAM_ID)\n",
        "df_fouls_period = opta_f24.get_df_fouls(team_id = TEAM_ID, period_id = 2)\n",
        "display(df_fouls_team)"
      ]
    },
    {
      "cell_type": "code",
      "execution_count": null,
      "metadata": {
        "id": "yR9PkYnAAU4g"
      },
      "outputs": [],
      "source": [
        "\"\"\"\n",
        "--> get_df_fouls_won(player_id = None, team_id = None, period_id = None)\n",
        "\n",
        "Obtiene un dataframe con información de todas las faltas recibidas en el partido.\n",
        "Permite filtrar por jugador, equipo y/o periodo\n",
        "\"\"\"\n",
        "\n",
        "df_fouls_won_player = opta_f24.get_df_fouls_won(player_id = PLAYER_ID)\n",
        "display(df_fouls_won_player)"
      ]
    },
    {
      "cell_type": "code",
      "execution_count": null,
      "metadata": {
        "id": "WHeh_qW4AU4g"
      },
      "outputs": [],
      "source": [
        "\"\"\"\n",
        "--> get_df_fouls_conceded(player_id = None, team_id = None, period_id = None)\n",
        "\n",
        "Obtiene un dataframe con información de todas las faltas concedidas en el partido.\n",
        "Permite filtrar por jugador, equipo y/o periodo\n",
        "\"\"\"\n",
        "\n",
        "df_fouls_conceded_player = opta_f24.get_df_fouls_conceded(player_id = PLAYER_ID)\n",
        "display(df_fouls_conceded_player)"
      ]
    },
    {
      "cell_type": "code",
      "execution_count": null,
      "metadata": {
        "id": "L7nYbS5fAU4h"
      },
      "outputs": [],
      "source": [
        "\"\"\"\n",
        "--> get_pitch_fouls(player_id = None, team_id = None, period_id = None)\n",
        "\n",
        "Obtiene un terreno de juego con las faltas representadas en él (tanto realizadas\n",
        "como concedidas).\n",
        "Permite filtrar por jugador, equipo y/o periodo\n",
        "\"\"\"\n",
        "\n",
        "pitch_fouls = opta_f24.get_pitch_fouls(team_id = TEAM_ID)"
      ]
    },
    {
      "cell_type": "code",
      "execution_count": null,
      "metadata": {
        "id": "XRL9JAqEAU4h"
      },
      "outputs": [],
      "source": [
        "\"\"\"\n",
        "--> get_stats_fouls(team_id = None)\n",
        "\n",
        "Devuelve un dataframe (ordenado por ratio descendentemente) con estadísticas del\n",
        " número de faltas recibidas y concedidas y el ratio.\n",
        "Permite filtrar por equipo.\n",
        "\"\"\"\n",
        "\n",
        "df_stats_fouls = opta_f24.get_stats_fouls(team_id = TEAM_ID)\n",
        "display(df_stats_fouls)"
      ]
    },
    {
      "cell_type": "code",
      "execution_count": null,
      "metadata": {
        "id": "pgDFP4BcAU4h"
      },
      "outputs": [],
      "source": [
        "\"\"\"\n",
        "--> get_bar_chart_fouls(team_id = None)\n",
        "\n",
        "Muestra un diagrama de barras con las faltas recibidas y concedidas de \n",
        "cada jugador.\n",
        "Permite filtrar por equipo.\n",
        "\"\"\"\n",
        "\n",
        "df_barchart_fouls = opta_f24.get_bar_chart_fouls()\n",
        "display(df_barchart_fouls)"
      ]
    },
    {
      "cell_type": "markdown",
      "metadata": {
        "id": "HRDlx684MPA5"
      },
      "source": [
        "# **FUNCIONES RELACIONADAS CON EVENTOS DE RECUPERACIÓN DE BALÓN**\n",
        "\n",
        "* get_df_ball_recoveries(player_id = None, team_id = None, period_id = None)\n",
        "* get_pitch_ball_recoveries(player_id = None, team_id = None, period_id = None)\n",
        "* get_stats_ball_recoveries(team_id = None)\n",
        "* get_bar_chart_ball_recoveries(team_id = None)"
      ]
    },
    {
      "cell_type": "code",
      "execution_count": null,
      "metadata": {
        "id": "bZQmh_eJNwCj"
      },
      "outputs": [],
      "source": [
        "\"\"\"\n",
        "--> get_df_ball_recoveries(player_id = None, team_id = None, period_id = None)\n",
        "\n",
        "Obtiene un dataframe con información de todas las recuperaciones de balón\n",
        "producidas en el partido.\n",
        "Permite filtrar por jugador, equipo y/o periodo.\n",
        "\"\"\"\n",
        "\n",
        "df_ball_recoveries_all = opta_f24.get_df_ball_recoveries()\n",
        "df_ball_recoveries_player = opta_f24.get_df_ball_recoveries(player_id = PLAYER_ID)\n",
        "df_ball_recoveries_team = opta_f24.get_df_ball_recoveries(team_id = TEAM_ID)\n",
        "df_ball_recoveries_period = opta_f24.get_df_ball_recoveries(team_id = TEAM_ID, period_id = 2)\n",
        "display(df_ball_recoveries_team)"
      ]
    },
    {
      "cell_type": "code",
      "execution_count": null,
      "metadata": {
        "id": "DJBKc_RyNwCk"
      },
      "outputs": [],
      "source": [
        "\"\"\"\n",
        "--> get_pitch_ball_recoveries(player_id = None, team_id = None, period_id = None)\n",
        "\n",
        "Obtiene un terreno de juego con las recuperaciones de balón representadas en él. \n",
        "\n",
        "Permite filtrar por jugador, equipo y/o periodo\n",
        "\"\"\"\n",
        "\n",
        "pitch_ball_recoveries = opta_f24.get_pitch_ball_recoveries(team_id = TEAM_ID)"
      ]
    },
    {
      "cell_type": "code",
      "execution_count": null,
      "metadata": {
        "id": "Rlqq2nQsNwCk"
      },
      "outputs": [],
      "source": [
        "\"\"\"\n",
        "--> get_stats_ball_recoveries(team_id = None)\n",
        "\n",
        "Devuelve un dataframe con estadísticas del número de recuperaciones de balón\n",
        "por jugador.\n",
        "Permite filtrar por equipo.\n",
        "\"\"\"\n",
        "\n",
        "df_stats_ball_recoveries = opta_f24.get_stats_ball_recoveries()\n",
        "display(df_stats_ball_recoveries)"
      ]
    },
    {
      "cell_type": "code",
      "execution_count": null,
      "metadata": {
        "id": "E-tcny47NwCl"
      },
      "outputs": [],
      "source": [
        "\"\"\"\n",
        "--> get_bar_chart_ball_recoveries(team_id = None)\n",
        "\n",
        "Muestra un diagrama de barras con las recuperaciones de balón de \n",
        "cada jugador en el partido.\n",
        "Permite filtrar por equipo.\n",
        "\"\"\"\n",
        "\n",
        "df_barchart_ball_recoveries = opta_f24.get_bar_chart_ball_recoveries(team_id = TEAM_ID)\n",
        "display(df_barchart_ball_recoveries)"
      ]
    },
    {
      "cell_type": "markdown",
      "metadata": {
        "id": "-WcT-H0yPHnp"
      },
      "source": [
        "# **FUNCIONES RELACIONADAS CON EVENTO DE DESPEJES**\n",
        "\n",
        "* get_df_clearances(player_id = None, team_id = None, period_id = None)\n",
        "* get_df_clearances_won(player_id = None, team_id = None, period_id = None)\n",
        "* get_df_clearances_lost(player_id = None, team_id = None, period_id = None)\n",
        "* get_pitch_clearances(player_id = None, team_id = None, period_id = None)\n",
        "* get_stats_clearances(team_id = None)\n",
        "* get_bar_chart_clearances(team_id = None)"
      ]
    },
    {
      "cell_type": "code",
      "execution_count": null,
      "metadata": {
        "id": "eLBMua8sPwkI"
      },
      "outputs": [],
      "source": [
        "\"\"\"\n",
        "--> get_df_clearances(player_id = None, team_id = None, period_id = None)\n",
        "\n",
        "Obtiene un dataframe con información de todos los despejes producidos en el partido\n",
        "Permite filtrar por jugador, equipo y/o periodo.\n",
        "\"\"\"\n",
        "\n",
        "df_clearances_all = opta_f24.get_df_clearances()\n",
        "df_clearances_player = opta_f24.get_df_clearances(player_id = PLAYER_ID)\n",
        "df_clearances_team = opta_f24.get_df_clearances(team_id = TEAM_ID)\n",
        "df_clearances_period = opta_f24.get_df_clearances(team_id = TEAM_ID, period_id = 2)\n",
        "display(df_clearances_team)"
      ]
    },
    {
      "cell_type": "code",
      "execution_count": null,
      "metadata": {
        "id": "FkzzdD37PwkJ"
      },
      "outputs": [],
      "source": [
        "\"\"\"\n",
        "--> get_df_clearances_won(player_id = None, team_id = None, period_id = None)\n",
        "\n",
        "Obtiene un dataframe con información de todos los despejes ganados durante el partido.\n",
        "Se considera despeje ganado aquel en el que el jugador despeja el balón desde la \n",
        "defensa, ya sea hacia otro compañero (es decir, mantiene la posesión) o directamente \n",
        "fuera del terreno de juego.\n",
        "Permite filtrar por jugador, equipo y/o periodo\n",
        "\"\"\"\n",
        "\n",
        "df_clearances_won_player = opta_f24.get_df_clearances_won(player_id = PLAYER_ID)\n",
        "display(df_clearances_won_player)"
      ]
    },
    {
      "cell_type": "code",
      "execution_count": null,
      "metadata": {
        "id": "OTv2JhDfPwkJ"
      },
      "outputs": [],
      "source": [
        "\"\"\"\n",
        "--> get_df_clearances_lost(player_id = None, team_id = None, period_id = None)\n",
        "\n",
        "  Obtiene un dataframe con información de todos los despejes perdidos durante el partido.\n",
        "  Se considera despeje perdido aquel en el que el jugador despeja el balón de la defensa \n",
        "  pero la posesión pasa al otro equipo. \n",
        "  Permite filtrar por jugador, equipo y/o periodo\n",
        "\"\"\"\n",
        "\n",
        "df_clearances_lost_player = opta_f24.get_df_clearances_lost(player_id = PLAYER_ID)\n",
        "display(df_clearances_lost_player)"
      ]
    },
    {
      "cell_type": "code",
      "execution_count": null,
      "metadata": {
        "id": "JmpXI_QePwkJ"
      },
      "outputs": [],
      "source": [
        "\"\"\"\n",
        "--> get_pitch_clearances(player_id = None, team_id = None, period_id = None)\n",
        "\n",
        "Obtiene un terreno de juego con los despejes representados en él (tanto ganados\n",
        "como perdidos).\n",
        "Permite filtrar por jugador, equipo y/o periodo\n",
        "\"\"\"\n",
        "\n",
        "pitch_clearances = opta_f24.get_pitch_clearances(team_id = TEAM_ID)"
      ]
    },
    {
      "cell_type": "code",
      "execution_count": null,
      "metadata": {
        "id": "w8Y68X8gPwkK"
      },
      "outputs": [],
      "source": [
        "\"\"\"\n",
        "--> get_stats_clearances(team_id = None)\n",
        "\n",
        "Devuelve un dataframe (ordenado por ratio descendentemente) con estadísticas del\n",
        " número de despejes ganados y perdidos y el ratio.\n",
        "Permite filtrar por equipo.\n",
        "\"\"\"\n",
        "\n",
        "df_stats_clearances = opta_f24.get_stats_clearances(team_id = TEAM_ID)\n",
        "display(df_stats_clearances)"
      ]
    },
    {
      "cell_type": "code",
      "execution_count": null,
      "metadata": {
        "id": "Ftq_3LBQPwkK"
      },
      "outputs": [],
      "source": [
        "\"\"\"\n",
        "--> get_bar_chart_clearances(team_id = None)\n",
        "\n",
        "Muestra un diagrama de barras con los despejes ganados y perdidos de \n",
        "cada jugador.\n",
        "Permite filtrar por equipo.\n",
        "\"\"\"\n",
        "\n",
        "df_barchart_clearances = opta_f24.get_bar_chart_clearances()\n",
        "display(df_barchart_clearances)"
      ]
    },
    {
      "cell_type": "markdown",
      "metadata": {
        "id": "N1veC6unV0AE"
      },
      "source": [
        "# **FUNCIONES RELACIONADAS CON EVENTOS DE SAQUES DE ESQUINA**\n",
        "- get_df_corners(player_id = None, team_id = None, period_id = None)\n",
        "- get_pitch_corners(player_id = None, team_id = None, period_id = None)\n",
        "- get_stats_corners(team_id = None)\n",
        "- get_bar_chart_corners(team_id = None)"
      ]
    },
    {
      "cell_type": "code",
      "execution_count": null,
      "metadata": {
        "id": "LrBVAGgVXfHg"
      },
      "outputs": [],
      "source": [
        "\"\"\"\n",
        "--> get_df_corners(player_id = None, team_id = None, period_id = None)\n",
        "\n",
        "Obtiene un dataframe con información de todos los saques de esquina lanzados en \n",
        "el partido.\n",
        "Permite filtrar por jugador, equipo y/o periodo.\n",
        "\"\"\"\n",
        "\n",
        "df_corners_all = opta_f24.get_df_corners()\n",
        "df_corners_player = opta_f24.get_df_corners(player_id = PLAYER_ID)\n",
        "df_corners_team = opta_f24.get_df_corners(team_id = TEAM_ID)\n",
        "df_corners_period = opta_f24.get_df_corners(team_id = TEAM_ID, period_id = 2)\n",
        "display(df_corners_team)"
      ]
    },
    {
      "cell_type": "code",
      "execution_count": null,
      "metadata": {
        "id": "aSv8kBuJXfHh"
      },
      "outputs": [],
      "source": [
        "\"\"\"\n",
        "--> get_pitch_corners(player_id = None, team_id = None, period_id = None)\n",
        "\n",
        "Obtiene un terreno de juego con los saques de esquina lanzados representadas en él.\n",
        "\n",
        "Permite filtrar por jugador, equipo y/o periodo\n",
        "\"\"\"\n",
        "\n",
        "pitch_corners = opta_f24.get_pitch_corners(team_id = TEAM_ID)"
      ]
    },
    {
      "cell_type": "code",
      "execution_count": null,
      "metadata": {
        "id": "K_JHElerXfHh"
      },
      "outputs": [],
      "source": [
        "\"\"\"\n",
        "--> get_stats_corners(team_id = None)\n",
        "\n",
        "Devuelve un dataframe con estadísticas del número de saques de esquina lanzados\n",
        "por jugador.\n",
        "Permite filtrar por equipo.\n",
        "\"\"\"\n",
        "\n",
        "df_stats_corners = opta_f24.get_stats_corners()\n",
        "display(df_stats_corners)"
      ]
    },
    {
      "cell_type": "code",
      "execution_count": null,
      "metadata": {
        "id": "cUPB3HGGXfHi"
      },
      "outputs": [],
      "source": [
        "\"\"\"\n",
        "--> get_bar_chart_corners(team_id = None)\n",
        "\n",
        "Muestra un diagrama de barras con los saques de esquina lanzados por cada jugador \n",
        "en el partido.\n",
        "Permite filtrar por equipo.\n",
        "\"\"\"\n",
        "\n",
        "df_barchart_corners = opta_f24.get_bar_chart_corners(team_id = TEAM_ID)\n",
        "display(df_barchart_corners)"
      ]
    },
    {
      "cell_type": "markdown",
      "metadata": {
        "id": "Z8_7o-RCV1E8"
      },
      "source": [
        "# **FUNCIONES RELACIONADAS CON EVENTOS DE DISPAROS**\n",
        "- get_df_shots(player_id = None, team_id = None, period_id = None)\n",
        "- get_pitch_shots(player_id = None, team_id = None, period_id = None)\n",
        "- get_stats_shots(team_id = None)\n",
        "- get_bar_chart_shots(team_id = None)"
      ]
    },
    {
      "cell_type": "code",
      "execution_count": null,
      "metadata": {
        "id": "HQdoHoMUYoWR"
      },
      "outputs": [],
      "source": [
        "\"\"\"\n",
        "--> get_df_shots(player_id = None, team_id = None, period_id = None)\n",
        "\n",
        "Obtiene un dataframe con información de todos los disparos (goles, al palo, paradas,\n",
        "fuera,...) producidos en el partido.\n",
        "Permite filtrar por jugador, equipo y/o periodo.\n",
        "\"\"\"\n",
        "\n",
        "df_shots_all = opta_f24.get_df_shots()\n",
        "df_shots_player = opta_f24.get_df_shots(player_id = PLAYER_ID)\n",
        "df_shots_team = opta_f24.get_df_shots(team_id = TEAM_ID)\n",
        "df_shots_period = opta_f24.get_df_shots(team_id = TEAM_ID, period_id = 2)\n",
        "display(df_shots_team)"
      ]
    },
    {
      "cell_type": "code",
      "execution_count": null,
      "metadata": {
        "id": "IlVIrRTBYoWS"
      },
      "outputs": [],
      "source": [
        "\"\"\"\n",
        "--> get_pitch_shots(player_id = None, team_id = None, period_id = None)\n",
        "\n",
        "Obtiene un terreno de juego con los disparos representadas en él. Los disparos\n",
        "se categorizan en goles, remates al poste, a puerta y fuera.\n",
        "\n",
        "Permite filtrar por jugador, equipo y/o periodo\n",
        "\"\"\"\n",
        "\n",
        "pitch_shots = opta_f24.get_pitch_shots(team_id = TEAM_ID)"
      ]
    },
    {
      "cell_type": "code",
      "execution_count": null,
      "metadata": {
        "id": "zYZT4nwMYoWS"
      },
      "outputs": [],
      "source": [
        "\"\"\"\n",
        "--> get_stats_shots(team_id = None)\n",
        "\n",
        "Devuelve un dataframe con estadísticas del número de disparos por jugador categorizados\n",
        "por a puerta (goles y paradas) y fuera (al poste y perdidos).\n",
        "Permite filtrar por equipo.\n",
        "\"\"\"\n",
        "\n",
        "df_stats_shots = opta_f24.get_stats_shots(team_id = TEAM_ID)\n",
        "display(df_stats_shots)"
      ]
    },
    {
      "cell_type": "code",
      "execution_count": null,
      "metadata": {
        "id": "XNxkfWz4YoWS"
      },
      "outputs": [],
      "source": [
        "\"\"\"\n",
        "--> get_bar_chart_shots(team_id = None)\n",
        "\n",
        "Muestra un diagrama de barras con los  disparos por jugador categorizados\n",
        "por: goles, parados, al postre y fuera.\n",
        "Permite filtrar por equipo.\n",
        "\"\"\"\n",
        "\n",
        "df_barchart_shots = opta_f24.get_bar_chart_shots()\n",
        "display(df_barchart_shots)"
      ]
    },
    {
      "cell_type": "markdown",
      "metadata": {
        "id": "r0-EfhECV2R_"
      },
      "source": [
        "# **FUNCIONES RELACIONADAS CON EVENTOS DE CENTROS**\n",
        "- get_df_crosses(player_id = None, team_id = None, period_id = None)\n",
        "- get_df_crosses_successful(player_id = None, team_id = None, period_id = None)\n",
        "- get_df_crosses_unsuccessful(player_id = None, team_id = None, period_id = None)\n",
        "- get_pitch_crosses(player_id = None, team_id = None, period_id = None)\n",
        "- get_stats_crosses(team_id = None)\n",
        "- get_bar_chart_crosses(team_id = None)"
      ]
    },
    {
      "cell_type": "code",
      "execution_count": null,
      "metadata": {
        "id": "_owWRnd7eDA5"
      },
      "outputs": [],
      "source": [
        "\"\"\"\n",
        "--> get_df_crosses(player_id = None, team_id = None, period_id = None)\n",
        "\n",
        "Obtiene un dataframe con información de todos los centros producidos en el partido.\n",
        "Permite filtrar por jugador, equipo y/o periodo.\n",
        "\"\"\"\n",
        "\n",
        "df_crosses_all = opta_f24.get_df_crosses()\n",
        "df_crosses_player = opta_f24.get_df_crosses(player_id = PLAYER_ID)\n",
        "df_crosses_team = opta_f24.get_df_crosses(team_id = TEAM_ID)\n",
        "df_crosses_period = opta_f24.get_df_crosses(team_id = TEAM_ID, period_id = 1)\n",
        "display(df_crosses_team)"
      ]
    },
    {
      "cell_type": "code",
      "execution_count": null,
      "metadata": {
        "id": "q3rTWt39eDA6"
      },
      "outputs": [],
      "source": [
        "\"\"\"\n",
        "--> get_df_crosses_successful(player_id = None, team_id = None, period_id = None)\n",
        "\n",
        "Obtiene un dataframe con información de todos los centros exitosos producidos en \n",
        "el partido.\n",
        "Permite filtrar por jugador, equipo y/o periodo\n",
        "\"\"\"\n",
        "\n",
        "df_successful_crosses_team = opta_f24.get_df_crosses_successful(team_id = TEAM_ID)\n",
        "display(df_successful_crosses_team)"
      ]
    },
    {
      "cell_type": "code",
      "execution_count": null,
      "metadata": {
        "id": "i7CTtUZ4eDA7"
      },
      "outputs": [],
      "source": [
        "\"\"\"\n",
        "--> get_df_crosses_unsuccessful(player_id = None, team_id = None, period_id = None)\n",
        "\n",
        "Obtiene un dataframe con información de todos los centros no exitosos producidos en \n",
        "el partido.\n",
        "Permite filtrar por jugador, equipo y/o periodo\n",
        "\"\"\"\n",
        "\n",
        "df_unsuccessful_crosses_team = opta_f24.get_df_crosses_unsuccessful(period_id = 2)\n",
        "display(df_unsuccessful_crosses_team)"
      ]
    },
    {
      "cell_type": "code",
      "execution_count": null,
      "metadata": {
        "id": "yrYwvmbzeDA7"
      },
      "outputs": [],
      "source": [
        "\"\"\"\n",
        "--> get_pitch_crosses(player_id = None, team_id = None, period_id = None)\n",
        "\n",
        "Obtiene un terreno de juego con los centros representados en él (tanto exitosos como\n",
        "no exitosos).\n",
        "Permite filtrar por jugador, equipo y/o periodo\n",
        "\"\"\"\n",
        "\n",
        "pitch_crosses = opta_f24.get_pitch_crosses(team_id = TEAM_ID, period_id = 2)"
      ]
    },
    {
      "cell_type": "code",
      "execution_count": null,
      "metadata": {
        "id": "5SbYD0vmeDA7"
      },
      "outputs": [],
      "source": [
        "\"\"\"\n",
        "--> get_stats_crosses(team_id = None)\n",
        "\n",
        "Devuelve un dataframe (ordenado por ratio descendentemente) con estadísticas del\n",
        " número de centros exitosos, no exitosos y el ratio.\n",
        "Permite filtrar por equipo.\n",
        "\"\"\"\n",
        "\n",
        "df_stats_crosses = opta_f24.get_stats_crosses()\n",
        "display(df_stats_crosses)"
      ]
    },
    {
      "cell_type": "code",
      "execution_count": null,
      "metadata": {
        "id": "T7CC2HfOeDA8"
      },
      "outputs": [],
      "source": [
        "\"\"\"\n",
        "--> get_bar_chart_crosses(team_id = None)\n",
        "\n",
        "Muestra un diagrama de barras con los centros exitosos y no exitosos de cada jugador.\n",
        "Permite filtrar por equipo.\n",
        "\"\"\"\n",
        "\n",
        "df_barchart_crosses = opta_f24.get_bar_chart_crosses(team_id = TEAM_ID)\n",
        "display(df_barchart_crosses)"
      ]
    },
    {
      "cell_type": "markdown",
      "metadata": {
        "id": "01D-jHBwV3BC"
      },
      "source": [
        "# **FUNCIONES RELACIONADAS CON EVENTOS DE ENTRADAS/TACKLES**\n",
        "- get_df_tackles(player_id = None, team_id = None, period_id = None)\n",
        "- get_df_tackles_won_possession(player_id = None, team_id = None, period_id = None)\n",
        "- get_df_tackles_no_possession(player_id = None, team_id = None, period_id = None)\n",
        "- get_pitch_tackles(player_id = None, team_id = None, period_id = None)\n",
        "- get_stats_tackles(team_id = None)\n",
        "- get_bar_chart_tackles(team_id = None)"
      ]
    },
    {
      "cell_type": "code",
      "execution_count": null,
      "metadata": {
        "id": "hWItj_rdhXDY"
      },
      "outputs": [],
      "source": [
        "\"\"\"\n",
        "--> get_df_tackles(player_id = None, team_id = None, period_id = None)\n",
        "\n",
        "Obtiene un dataframe con información de todas las entradas producidas en el partido.\n",
        "Permite filtrar por jugador, equipo y/o periodo.\n",
        "\"\"\"\n",
        "\n",
        "df_tackles_all = opta_f24.get_df_tackles()\n",
        "df_tackles_player = opta_f24.get_df_tackles(player_id = PLAYER_ID)\n",
        "df_tackles_team = opta_f24.get_df_tackles(team_id = TEAM_ID)\n",
        "df_tackles_period = opta_f24.get_df_tackles(team_id = TEAM_ID, period_id = 2)\n",
        "display(df_tackles_team)"
      ]
    },
    {
      "cell_type": "code",
      "execution_count": null,
      "metadata": {
        "id": "NMTgD21ThXDZ"
      },
      "outputs": [],
      "source": [
        "\"\"\"\n",
        "--> get_df_tackles_won_possession(player_id = None, team_id = None, period_id = None)\n",
        "\n",
        "Obtiene un dataframe con información de todas las entradas en las que el equipo gana\n",
        "la posesión.\n",
        "Permite filtrar por jugador, equipo y/o periodo\n",
        "\"\"\"\n",
        "\n",
        "df_tackles_won_player = opta_f24.get_df_tackles_won_possession(player_id = PLAYER_ID)\n",
        "display(df_tackles_won_player)"
      ]
    },
    {
      "cell_type": "code",
      "execution_count": null,
      "metadata": {
        "id": "knR28rh7hXDZ"
      },
      "outputs": [],
      "source": [
        "\"\"\"\n",
        "--> get_df_tackles_no_possession(player_id = None, team_id = None, period_id = None)\n",
        "\n",
        "Obtiene un dataframe con información de todas las entradas en las que el equipo no \n",
        "gana o pierde la posesión.\n",
        "Permite filtrar por jugador, equipo y/o periodo\n",
        "\"\"\"\n",
        "\n",
        "df_tackles_lost_player = opta_f24.get_df_tackles_no_possession(player_id = PLAYER_ID)\n",
        "display(df_tackles_lost_player)"
      ]
    },
    {
      "cell_type": "code",
      "execution_count": null,
      "metadata": {
        "id": "speC3CQEhXDZ"
      },
      "outputs": [],
      "source": [
        "\"\"\"\n",
        "--> get_pitch_tackles(player_id = None, team_id = None, period_id = None)\n",
        "\n",
        "Obtiene un terreno de juego con las entradas representadas en él (tanto realizadas\n",
        "como concedidas).\n",
        "Permite filtrar por jugador, equipo y/o periodo.\n",
        "\"\"\"\n",
        "\n",
        "pitch_tackles = opta_f24.get_pitch_tackles(team_id = TEAM_ID)"
      ]
    },
    {
      "cell_type": "code",
      "execution_count": null,
      "metadata": {
        "id": "zFghBkXNhXDa"
      },
      "outputs": [],
      "source": [
        "\"\"\"\n",
        "--> get_stats_tackles(team_id = None)\n",
        "\n",
        "Devuelve un dataframe (ordenado por ratio descendentemente) con estadísticas del\n",
        " número de entradas en las que se gana la posesión, las que no y el ratio.\n",
        "Permite filtrar por equipo.\n",
        "\"\"\"\n",
        "\n",
        "df_stats_tackles = opta_f24.get_stats_tackles(team_id = TEAM_ID)\n",
        "display(df_stats_tackles)"
      ]
    },
    {
      "cell_type": "code",
      "execution_count": null,
      "metadata": {
        "id": "hyZNE4K2hXDa"
      },
      "outputs": [],
      "source": [
        "\"\"\"\n",
        "--> get_bar_chart_tackles(team_id = None)\n",
        "\n",
        "Muestra un diagrama de barras con las entradas en las que se gana la posesión y \n",
        "las que no de cada jugador.\n",
        "Permite filtrar por equipo.\n",
        "\"\"\"\n",
        "\n",
        "df_barchart_tackles = opta_f24.get_bar_chart_tackles()\n",
        "display(df_barchart_tackles)"
      ]
    },
    {
      "cell_type": "markdown",
      "metadata": {
        "id": "uNt7i9FLV3pL"
      },
      "source": [
        "# **FUNCIONES RELACIONADAS CON EVENTOS DE INTERCEPCIONES**\n",
        "- get_df_interceptions(player_id = None, team_id = None, period_id = None)\n",
        "- get_pitch_interceptions(player_id = None, team_id = None, period_id = None)\n",
        "- get_stats_interceptions(team_id = None)\n",
        "- get_bar_chart_interceptions(team_id = None)"
      ]
    },
    {
      "cell_type": "code",
      "execution_count": null,
      "metadata": {
        "id": "CbxnPJ6oi5zz"
      },
      "outputs": [],
      "source": [
        "\"\"\"\n",
        "--> get_df_interceptions(player_id = None, team_id = None, period_id = None)\n",
        "\n",
        "Obtiene un dataframe con información de todas las intercepciones producidos en el partido.\n",
        "Permite filtrar por jugador, equipo y/o periodo.\n",
        "\"\"\"\n",
        "\n",
        "df_interceptions_all = opta_f24.get_df_interceptions()\n",
        "df_interceptions_player = opta_f24.get_df_interceptions(player_id = PLAYER_ID)\n",
        "df_interceptions_team = opta_f24.get_df_interceptions(team_id = TEAM_ID)\n",
        "df_interceptions_period = opta_f24.get_df_interceptions(team_id = TEAM_ID, period_id = 2)\n",
        "display(df_interceptions_team)"
      ]
    },
    {
      "cell_type": "code",
      "execution_count": null,
      "metadata": {
        "id": "OQxVOkdti5zz"
      },
      "outputs": [],
      "source": [
        "\"\"\"\n",
        "--> get_pitch_interceptions(player_id = None, team_id = None, period_id = None)\n",
        "\n",
        "Obtiene un terreno de juego con las intercepciones representadas en él. \n",
        "Permite filtrar por jugador, equipo y/o periodo\n",
        "\"\"\"\n",
        "\n",
        "pitch_interceptions = opta_f24.get_pitch_interceptions(team_id = TEAM_ID)"
      ]
    },
    {
      "cell_type": "code",
      "execution_count": null,
      "metadata": {
        "id": "3mN0YK__i5z0"
      },
      "outputs": [],
      "source": [
        "\"\"\"\n",
        "--> get_stats_interceptions(team_id = None)\n",
        "\n",
        "Devuelve un dataframe con estadísticas del número de intercepciones por jugador.\n",
        "Permite filtrar por equipo.\n",
        "\"\"\"\n",
        "\n",
        "df_stats_interceptions = opta_f24.get_stats_interceptions()\n",
        "display(df_stats_interceptions)"
      ]
    },
    {
      "cell_type": "code",
      "execution_count": null,
      "metadata": {
        "id": "NVJoaxQmi5z0"
      },
      "outputs": [],
      "source": [
        "\"\"\"\n",
        "--> get_bar_chart_interceptions(team_id = None)\n",
        "\n",
        "Muestra un diagrama de barras con las intercepciones por jugador.\n",
        "Permite filtrar por equipo.\n",
        "\"\"\"\n",
        "\n",
        "df_barchart_interceptions = opta_f24.get_bar_chart_interceptions(team_id = TEAM_ID)\n",
        "display(df_barchart_interceptions)"
      ]
    },
    {
      "cell_type": "markdown",
      "metadata": {
        "id": "Xr2KKMx5kISU"
      },
      "source": [
        "# **FUNCIONES DE MAPA DE CALOR**\n",
        "\n",
        "* get_player_heatmap(player_id)\n",
        "* get_team_players_heatmap(team_id)\n",
        "* get_team_passes_heatmap(team_id)"
      ]
    },
    {
      "cell_type": "code",
      "execution_count": null,
      "metadata": {
        "id": "gj3IkG0nkeVO"
      },
      "outputs": [],
      "source": [
        "\"\"\"\n",
        "--> get_player_heatmap(player_id)\n",
        "\n",
        "Obtiene un terreno de juego representando un mapa de calor con la distribución de \n",
        "todos los eventos (de cualquier tipo) de un jugador durante el partido.\n",
        "\"\"\"\n",
        "\n",
        "pitch_player_events = opta_f24.get_player_heatmap(player_id = PLAYER_ID)"
      ]
    },
    {
      "cell_type": "code",
      "execution_count": null,
      "metadata": {
        "id": "m9qXmZFXkoTu"
      },
      "outputs": [],
      "source": [
        "\"\"\"\n",
        "--> get_team_players_heatmap(team_id)\n",
        "\n",
        "Obtiene un grid con terrenos de juego por cada jugador del equipo pasado como argumento, \n",
        "representando un mapa de calor con la distribución de todos los eventos \n",
        "(de cualquier tipo) del jugador durante el partido.\n",
        "\"\"\"\n",
        "\n",
        "pitch_team_events = opta_f24.get_team_players_heatmap(team_id = TEAM_ID)"
      ]
    },
    {
      "cell_type": "code",
      "execution_count": null,
      "metadata": {
        "id": "r8XpHrI3DcBm"
      },
      "outputs": [],
      "source": [
        "\"\"\"\n",
        "--> get_team_passes_heatmap(team_id)\n",
        "\n",
        "Obtiene una representación con dos terrenos de juego. \n",
        "En el primero de ellos se muestra un mapa de calor con la localización desde dónde\n",
        "se dan los pases (inicio de pases, x_start, y_start).\n",
        "En el segundo de ellos se muestra un mapa de calor con la localización desde dónde\n",
        "se reciben los pases (fin de pases, x_end, y_end).\n",
        "\"\"\"\n",
        "pitch_passes_heatmap = opta_f24.get_team_passes_heatmap(team_id = TEAM_ID)"
      ]
    },
    {
      "cell_type": "markdown",
      "metadata": {
        "id": "l6TkevvrCokL"
      },
      "source": [
        "# **FUNCIONES DE REPORTE**\n",
        "\n",
        "* create_team_report(team_id, file_output)"
      ]
    },
    {
      "cell_type": "code",
      "execution_count": null,
      "metadata": {
        "id": "y0gNmo6JATN8"
      },
      "outputs": [],
      "source": [
        "\"\"\"\n",
        "--> create_team_report(team_id, file_output)\n",
        "\n",
        "Obtiene un reporte en pdf de las estadísticas del partido para un equipo.\n",
        "team_id: Identificador del equipo\n",
        "file_output: Fichero de salida del reporte en pdf (ruta + nombre de fichero)\n",
        "\"\"\"\n",
        "# Ruta del fichero de salida para el reporte de equipo\n",
        "REPORT_FILE = '/content/drive/MyDrive/library/team_report.pdf'\n",
        "opta_f24.create_team_report(TEAM_ID, REPORT_FILE)"
      ]
    }
  ],
  "metadata": {
    "colab": {
      "provenance": []
    },
    "kernelspec": {
      "display_name": "Python 3",
      "name": "python3"
    },
    "language_info": {
      "name": "python"
    }
  },
  "nbformat": 4,
  "nbformat_minor": 0
}